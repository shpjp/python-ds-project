{
 "cells": [
  {
   "cell_type": "markdown",
   "id": "698f30de",
   "metadata": {},
   "source": [
    "### Welcome to python notebook\n",
    "### Day 1"
   ]
  },
  {
   "cell_type": "markdown",
   "id": "83236ad7",
   "metadata": {},
   "source": [
    "This is where you can write python code"
   ]
  },
  {
   "cell_type": "code",
   "execution_count": 1,
   "id": "1bea5885",
   "metadata": {},
   "outputs": [
    {
     "name": "stdout",
     "output_type": "stream",
     "text": [
      "shpjp\n"
     ]
    }
   ],
   "source": [
    "print(\"shpjp\")"
   ]
  }
 ],
 "metadata": {
  "kernelspec": {
   "display_name": ".venv",
   "language": "python",
   "name": "python3"
  },
  "language_info": {
   "codemirror_mode": {
    "name": "ipython",
    "version": 3
   },
   "file_extension": ".py",
   "mimetype": "text/x-python",
   "name": "python",
   "nbconvert_exporter": "python",
   "pygments_lexer": "ipython3",
   "version": "3.11.9"
  }
 },
 "nbformat": 4,
 "nbformat_minor": 5
}
